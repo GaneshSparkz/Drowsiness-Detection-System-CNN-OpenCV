{
  "nbformat": 4,
  "nbformat_minor": 0,
  "metadata": {
    "colab": {
      "name": "DrowsinessDetectorTraining.ipynb",
      "provenance": [],
      "collapsed_sections": [],
      "mount_file_id": "1KYtGylyHjLkJp3XSZPLGyf13qcdMp3XX",
      "authorship_tag": "ABX9TyNmR9tKQIBWxlST+06etccL",
      "include_colab_link": true
    },
    "kernelspec": {
      "name": "python3",
      "display_name": "Python 3"
    },
    "accelerator": "GPU"
  },
  "cells": [
    {
      "cell_type": "markdown",
      "metadata": {
        "id": "view-in-github",
        "colab_type": "text"
      },
      "source": [
        "<a href=\"https://colab.research.google.com/github/GaneshSparkz/Drowsiness-Detection-System-CNN-OpenCV/blob/main/DrowsinessDetectorTraining.ipynb\" target=\"_parent\"><img src=\"https://colab.research.google.com/assets/colab-badge.svg\" alt=\"Open In Colab\"/></a>"
      ]
    },
    {
      "cell_type": "markdown",
      "metadata": {
        "id": "-XFgqzu2DLl6"
      },
      "source": [
        "Import required Libraries"
      ]
    },
    {
      "cell_type": "code",
      "metadata": {
        "id": "2zq6PSRWyQJV"
      },
      "source": [
        "import numpy as np\n",
        "import matplotlib.pyplot as plt\n",
        "\n",
        "from tensorflow.keras.optimizers import RMSprop\n",
        "from tensorflow.keras.preprocessing.image import ImageDataGenerator\n",
        "from tensorflow.keras.models import Sequential\n",
        "from tensorflow.keras.layers import Conv2D\n",
        "from tensorflow.keras.layers import MaxPool2D\n",
        "from tensorflow.keras.layers import Dropout\n",
        "from tensorflow.keras.layers import Dense\n",
        "from tensorflow.keras.layers import Flatten\n",
        "from tensorflow.keras.layers import Activation\n",
        "from tensorflow.keras.utils import plot_model"
      ],
      "execution_count": null,
      "outputs": []
    },
    {
      "cell_type": "markdown",
      "metadata": {
        "id": "FmoP_4JzGlwY"
      },
      "source": [
        "Load the Preprocessed Dataset"
      ]
    },
    {
      "cell_type": "code",
      "metadata": {
        "id": "cc-yqHv5GquS"
      },
      "source": [
        "X_train = np.load(\"drive/MyDrive/X_train.npy\")\n",
        "y_train = np.load(\"drive/MyDrive/y_train.npy\")\n",
        "\n",
        "X_test = np.load(\"drive/MyDrive/X_test.npy\")\n",
        "y_test = np.load(\"drive/MyDrive/y_test.npy\")"
      ],
      "execution_count": null,
      "outputs": []
    },
    {
      "cell_type": "markdown",
      "metadata": {
        "id": "Xrez50dxH20t"
      },
      "source": [
        "Hyperparameters and Data Augmentation"
      ]
    },
    {
      "cell_type": "code",
      "metadata": {
        "id": "J7Q50Z6RH_kl"
      },
      "source": [
        "# Hyperparameters\n",
        "LEARNING_RATE = 1e-3\n",
        "EPOCHS = 15\n",
        "BATCH_SIZE = 16"
      ],
      "execution_count": null,
      "outputs": []
    },
    {
      "cell_type": "code",
      "metadata": {
        "id": "qF8cpg_FIlrc"
      },
      "source": [
        "# Data Augmentation\n",
        "data_gen = ImageDataGenerator(\n",
        "    width_shift_range=0.1,\n",
        "    height_shift_range=0.1,\n",
        "    rotation_range=10,\n",
        "    shear_range=0.1,\n",
        "    zoom_range=0.2\n",
        ")\n",
        "data_gen.fit(X_train)"
      ],
      "execution_count": null,
      "outputs": []
    },
    {
      "cell_type": "markdown",
      "metadata": {
        "id": "zxWBOXnZNdBL"
      },
      "source": [
        "Build the Model"
      ]
    },
    {
      "cell_type": "code",
      "metadata": {
        "id": "ThCgOv-sNgT3"
      },
      "source": [
        "model = Sequential()\n",
        "# first CNN layer\n",
        "model.add(Conv2D(32, (3, 3), input_shape=(24, 24, 1)))\n",
        "model.add(Activation('relu'))\n",
        "model.add(MaxPool2D((1, 1)))\n",
        "# second CNN layer\n",
        "model.add(Conv2D(32, (3, 3)))\n",
        "model.add(Activation('relu'))\n",
        "model.add(MaxPool2D((1, 1)))\n",
        "# third CNN layer\n",
        "model.add(Conv2D(64, (3, 3)))\n",
        "model.add(Activation('relu'))\n",
        "model.add(MaxPool2D((1, 1)))\n",
        "model.add(Dropout(0.25))\n",
        "# FC -> relu layer\n",
        "model.add(Flatten())\n",
        "model.add(Dense(128))\n",
        "model.add(Activation('relu'))\n",
        "model.add(Dropout(0.5))\n",
        "# final layer -> sigmoid classification\n",
        "model.add(Dense(1))\n",
        "model.add(Activation('sigmoid'))"
      ],
      "execution_count": null,
      "outputs": []
    },
    {
      "cell_type": "markdown",
      "metadata": {
        "id": "OjODITjT09AX"
      },
      "source": [
        "Compile and Visualize the model"
      ]
    },
    {
      "cell_type": "code",
      "metadata": {
        "colab": {
          "base_uri": "https://localhost:8080/"
        },
        "id": "JaYOPZsg1B1K",
        "outputId": "be6ce35e-9212-4fe8-c531-742a73d84e90"
      },
      "source": [
        "model.compile(\n",
        "    optimizer=RMSprop(learning_rate=LEARNING_RATE),\n",
        "    loss='binary_crossentropy',\n",
        "    metrics=['accuracy']\n",
        ")\n",
        "plot_model(model, to_file=\"model.png\", show_shapes=True)\n",
        "model.summary()"
      ],
      "execution_count": null,
      "outputs": [
        {
          "output_type": "stream",
          "text": [
            "Model: \"sequential_1\"\n",
            "_________________________________________________________________\n",
            "Layer (type)                 Output Shape              Param #   \n",
            "=================================================================\n",
            "conv2d_3 (Conv2D)            (None, 22, 22, 32)        320       \n",
            "_________________________________________________________________\n",
            "activation_5 (Activation)    (None, 22, 22, 32)        0         \n",
            "_________________________________________________________________\n",
            "max_pooling2d_3 (MaxPooling2 (None, 22, 22, 32)        0         \n",
            "_________________________________________________________________\n",
            "conv2d_4 (Conv2D)            (None, 20, 20, 32)        9248      \n",
            "_________________________________________________________________\n",
            "activation_6 (Activation)    (None, 20, 20, 32)        0         \n",
            "_________________________________________________________________\n",
            "max_pooling2d_4 (MaxPooling2 (None, 20, 20, 32)        0         \n",
            "_________________________________________________________________\n",
            "conv2d_5 (Conv2D)            (None, 18, 18, 64)        18496     \n",
            "_________________________________________________________________\n",
            "activation_7 (Activation)    (None, 18, 18, 64)        0         \n",
            "_________________________________________________________________\n",
            "max_pooling2d_5 (MaxPooling2 (None, 18, 18, 64)        0         \n",
            "_________________________________________________________________\n",
            "dropout_2 (Dropout)          (None, 18, 18, 64)        0         \n",
            "_________________________________________________________________\n",
            "flatten_1 (Flatten)          (None, 20736)             0         \n",
            "_________________________________________________________________\n",
            "dense_2 (Dense)              (None, 128)               2654336   \n",
            "_________________________________________________________________\n",
            "activation_8 (Activation)    (None, 128)               0         \n",
            "_________________________________________________________________\n",
            "dropout_3 (Dropout)          (None, 128)               0         \n",
            "_________________________________________________________________\n",
            "dense_3 (Dense)              (None, 1)                 129       \n",
            "_________________________________________________________________\n",
            "activation_9 (Activation)    (None, 1)                 0         \n",
            "=================================================================\n",
            "Total params: 2,682,529\n",
            "Trainable params: 2,682,529\n",
            "Non-trainable params: 0\n",
            "_________________________________________________________________\n"
          ],
          "name": "stdout"
        }
      ]
    },
    {
      "cell_type": "markdown",
      "metadata": {
        "id": "5ERjutN819kc"
      },
      "source": [
        "Train the model"
      ]
    },
    {
      "cell_type": "code",
      "metadata": {
        "colab": {
          "base_uri": "https://localhost:8080/"
        },
        "id": "WSmMOqHp1_95",
        "outputId": "daec28c6-762c-43dd-f428-71413956af11"
      },
      "source": [
        "history = model.fit_generator(\n",
        "    data_gen.flow(X_train, y_train, batch_size=BATCH_SIZE),\n",
        "    validation_data=(X_test, y_test),\n",
        "    epochs=EPOCHS,\n",
        "    shuffle=True\n",
        ")"
      ],
      "execution_count": null,
      "outputs": [
        {
          "output_type": "stream",
          "text": [
            "Epoch 1/15\n",
            "78/78 [==============================] - 1s 9ms/step - loss: 0.5009 - accuracy: 0.7650 - val_loss: 0.1874 - val_accuracy: 0.9174\n",
            "Epoch 2/15\n",
            "78/78 [==============================] - 1s 7ms/step - loss: 0.3452 - accuracy: 0.8598 - val_loss: 0.1942 - val_accuracy: 0.9358\n",
            "Epoch 3/15\n",
            "78/78 [==============================] - 1s 7ms/step - loss: 0.3056 - accuracy: 0.8849 - val_loss: 0.1368 - val_accuracy: 0.9404\n",
            "Epoch 4/15\n",
            "78/78 [==============================] - 1s 7ms/step - loss: 0.2280 - accuracy: 0.9182 - val_loss: 0.1439 - val_accuracy: 0.9404\n",
            "Epoch 5/15\n",
            "78/78 [==============================] - 1s 7ms/step - loss: 0.2239 - accuracy: 0.9238 - val_loss: 0.1345 - val_accuracy: 0.9450\n",
            "Epoch 6/15\n",
            "78/78 [==============================] - 1s 7ms/step - loss: 0.2079 - accuracy: 0.9360 - val_loss: 0.1142 - val_accuracy: 0.9404\n",
            "Epoch 7/15\n",
            "78/78 [==============================] - 1s 7ms/step - loss: 0.1860 - accuracy: 0.9327 - val_loss: 0.0711 - val_accuracy: 0.9725\n",
            "Epoch 8/15\n",
            "78/78 [==============================] - 1s 7ms/step - loss: 0.1547 - accuracy: 0.9546 - val_loss: 0.0829 - val_accuracy: 0.9679\n",
            "Epoch 9/15\n",
            "78/78 [==============================] - 1s 7ms/step - loss: 0.1434 - accuracy: 0.9489 - val_loss: 0.0739 - val_accuracy: 0.9633\n",
            "Epoch 10/15\n",
            "78/78 [==============================] - 1s 7ms/step - loss: 0.1177 - accuracy: 0.9611 - val_loss: 0.0988 - val_accuracy: 0.9633\n",
            "Epoch 11/15\n",
            "78/78 [==============================] - 1s 7ms/step - loss: 0.1214 - accuracy: 0.9595 - val_loss: 0.0987 - val_accuracy: 0.9541\n",
            "Epoch 12/15\n",
            "78/78 [==============================] - 1s 7ms/step - loss: 0.1192 - accuracy: 0.9643 - val_loss: 0.0868 - val_accuracy: 0.9725\n",
            "Epoch 13/15\n",
            "78/78 [==============================] - 1s 7ms/step - loss: 0.1071 - accuracy: 0.9619 - val_loss: 0.0457 - val_accuracy: 0.9771\n",
            "Epoch 14/15\n",
            "78/78 [==============================] - 1s 7ms/step - loss: 0.1248 - accuracy: 0.9660 - val_loss: 0.0363 - val_accuracy: 0.9817\n",
            "Epoch 15/15\n",
            "78/78 [==============================] - 1s 7ms/step - loss: 0.0849 - accuracy: 0.9733 - val_loss: 0.0184 - val_accuracy: 0.9954\n"
          ],
          "name": "stdout"
        }
      ]
    },
    {
      "cell_type": "markdown",
      "metadata": {
        "id": "Mf7rzzz02lXb"
      },
      "source": [
        "Plot the Results"
      ]
    },
    {
      "cell_type": "code",
      "metadata": {
        "colab": {
          "base_uri": "https://localhost:8080/",
          "height": 573
        },
        "id": "2-pobqg_2o75",
        "outputId": "f5666140-64e8-4156-da92-b57a414f2ff2"
      },
      "source": [
        "plt.figure(1)\n",
        "plt.plot(history.history['accuracy'])\n",
        "plt.plot(history.history['val_accuracy'])\n",
        "plt.legend(['Training', 'Validation'])\n",
        "plt.title('Accuracy')\n",
        "plt.xlabel('Epochs')\n",
        "plt.figure(2)\n",
        "plt.plot(history.history['loss'])\n",
        "plt.plot(history.history['val_loss'])\n",
        "plt.legend(['Training', 'Validation'])\n",
        "plt.title('Loss')\n",
        "plt.xlabel('Epochs')\n",
        "plt.show()"
      ],
      "execution_count": null,
      "outputs": [
        {
          "output_type": "display_data",
          "data": {
            "image/png": "[encoded data removed]",
            "text/plain": [
              "<Figure size 432x288 with 1 Axes>"
            ]
          },
          "metadata": {
            "tags": [],
            "needs_background": "light"
          }
        },
        {
          "output_type": "display_data",
          "data": {
            "image/png": "[encoded data removed]",
            "text/plain": [
              "<Figure size 432x288 with 1 Axes>"
            ]
          },
          "metadata": {
            "tags": [],
            "needs_background": "light"
          }
        }
      ]
    },
    {
      "cell_type": "markdown",
      "metadata": {
        "id": "UQTZLcI42xti"
      },
      "source": [
        "Save the trained model"
      ]
    },
    {
      "cell_type": "code",
      "metadata": {
        "id": "n3_mh6Bm25kT"
      },
      "source": [
        "model.save(\"trained_model.h5\")"
      ],
      "execution_count": null,
      "outputs": []
    }
  ]
}